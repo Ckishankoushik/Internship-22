{
 "cells": [
  {
   "cell_type": "code",
   "execution_count": 8,
   "metadata": {},
   "outputs": [],
   "source": [
    "def pypart(n):\n",
    "    for i in range (n+1 , 0 , -1):\n",
    "        for j in range (0 , i-1):\n",
    "            print(\"X\", end = \" \")\n",
    "        print(\" \")"
   ]
  },
  {
   "cell_type": "code",
   "execution_count": 9,
   "metadata": {},
   "outputs": [
    {
     "name": "stdout",
     "output_type": "stream",
     "text": [
      "X X X X X  \n",
      "X X X X  \n",
      "X X X  \n",
      "X X  \n",
      "X  \n",
      " \n"
     ]
    }
   ],
   "source": [
    "n = 5\n",
    "pypart(n)"
   ]
  },
  {
   "cell_type": "code",
   "execution_count": 10,
   "metadata": {},
   "outputs": [
    {
     "name": "stdout",
     "output_type": "stream",
     "text": [
      "X X X X X X  \n",
      "X X X X X  \n",
      "X X X X  \n",
      "X X X  \n",
      "X X  \n",
      "X  \n",
      " \n"
     ]
    }
   ],
   "source": [
    "n = 6\n",
    "pypart(n)"
   ]
  },
  {
   "cell_type": "code",
   "execution_count": null,
   "metadata": {},
   "outputs": [],
   "source": []
  }
 ],
 "metadata": {
  "kernelspec": {
   "display_name": "Python 3",
   "language": "python",
   "name": "python3"
  },
  "language_info": {
   "codemirror_mode": {
    "name": "ipython",
    "version": 3
   },
   "file_extension": ".py",
   "mimetype": "text/x-python",
   "name": "python",
   "nbconvert_exporter": "python",
   "pygments_lexer": "ipython3",
   "version": "3.8.5"
  }
 },
 "nbformat": 4,
 "nbformat_minor": 4
}
