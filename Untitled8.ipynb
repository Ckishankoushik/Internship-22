{
 "cells": [
  {
   "cell_type": "code",
   "execution_count": 3,
   "metadata": {},
   "outputs": [
    {
     "name": "stdout",
     "output_type": "stream",
     "text": [
      "Enter the key: koushik\n",
      "Enter the value: 5\n",
      "{'koushik': '5'}\n"
     ]
    }
   ],
   "source": [
    "class my_dictionary(dict): \n",
    "  \n",
    "    # __init__ function \n",
    "    def __init__(self): \n",
    "        self = dict() \n",
    "          \n",
    "    # Function to add key:value\n",
    "    def add(self, key, value): \n",
    "        self[key] = value \n",
    "  \n",
    "\n",
    "dict_obj = my_dictionary() \n",
    "\n",
    "dict_obj.key = input(\"Enter the key: \")\n",
    "dict_obj.value = input(\"Enter the value: \")\n",
    "  \n",
    "dict_obj.add(dict_obj.key, dict_obj.value) \n",
    "dict_obj.add(dict_obj.key, dict_obj.value) \n",
    "  \n",
    "print(dict_obj) "
   ]
  },
  {
   "cell_type": "code",
   "execution_count": 21,
   "metadata": {},
   "outputs": [
    {
     "name": "stdout",
     "output_type": "stream",
     "text": [
      "cont added\n",
      "cont added\n",
      "cont added\n",
      "cont added\n",
      "cont added\n"
     ]
    }
   ],
   "source": [
    "contact = {}\n",
    "def add_cont(name, Ph):\n",
    "    if name  not in contact:\n",
    "        contact[name] = Ph\n",
    "        print(\"cont added\")\n",
    "    else:\n",
    "        print(\"cont exists\")\n",
    "\n",
    "        \n",
    "add_cont(\"koushik\", 43245678)\n",
    "add_cont(\"prashant\", 968418)\n",
    "add_cont(\"bhavya\", 34789378)\n",
    "add_cont(\"niraj\", 48972882)\n",
    "add_cont(\"sai\", 13800003)\n"
   ]
  },
  {
   "cell_type": "code",
   "execution_count": 22,
   "metadata": {},
   "outputs": [
    {
     "data": {
      "text/plain": [
       "{'koushik': 43245678,\n",
       " 'prashant': 968418,\n",
       " 'bhavya': 34789378,\n",
       " 'niraj': 48972882,\n",
       " 'sai': 13800003}"
      ]
     },
     "execution_count": 22,
     "metadata": {},
     "output_type": "execute_result"
    }
   ],
   "source": [
    "contact"
   ]
  },
  {
   "cell_type": "code",
   "execution_count": 23,
   "metadata": {},
   "outputs": [
    {
     "name": "stdout",
     "output_type": "stream",
     "text": [
      "Enter a name: koushik\n",
      "None\n"
     ]
    }
   ],
   "source": [
    "Enter = input(\"Enter a name: \")\n",
    "print(contact.get(\"Enter\"))"
   ]
  },
  {
   "cell_type": "code",
   "execution_count": 25,
   "metadata": {},
   "outputs": [
    {
     "name": "stdout",
     "output_type": "stream",
     "text": [
      "43245678\n"
     ]
    }
   ],
   "source": [
    "contact = {'koushik': 43245678,\n",
    " 'prashant': 968418,\n",
    " 'bhavya': 34789378,\n",
    " 'niraj': 48972882,\n",
    " 'sai': 13800003}\n",
    "def searchname(name):\n",
    "    if name in contact:\n",
    "        print(contact[name])\n",
    "        \n",
    "searchname('koushik')\n"
   ]
  },
  {
   "cell_type": "code",
   "execution_count": 35,
   "metadata": {},
   "outputs": [
    {
     "name": "stdout",
     "output_type": "stream",
     "text": [
      "Enter a value: 2452522222\n",
      "prashant 2452522222\n"
     ]
    }
   ],
   "source": [
    "contact = {'koushik': 43245678,\n",
    " 'prashant': 968418,\n",
    " 'bhavya': 34789378,\n",
    " 'niraj': 48972882,\n",
    " 'sai': 13800003}\n",
    "\n",
    "\n",
    "X = input(\"Enter a value: \")\n",
    "def modify(name):\n",
    "    if name in contact:\n",
    "        contact[name] = X\n",
    "        print(name, contact[name])\n",
    "    else:\n",
    "        print(\"Record not found\")\n",
    "        \n",
    "modify('prashant')"
   ]
  },
  {
   "cell_type": "code",
   "execution_count": 36,
   "metadata": {},
   "outputs": [
    {
     "data": {
      "text/plain": [
       "{'koushik': 43245678,\n",
       " 'prashant': '2452522222',\n",
       " 'bhavya': 34789378,\n",
       " 'niraj': 48972882,\n",
       " 'sai': 13800003}"
      ]
     },
     "execution_count": 36,
     "metadata": {},
     "output_type": "execute_result"
    }
   ],
   "source": [
    "contact"
   ]
  },
  {
   "cell_type": "code",
   "execution_count": 42,
   "metadata": {},
   "outputs": [
    {
     "name": "stdout",
     "output_type": "stream",
     "text": [
      "Enter a name: sai\n"
     ]
    }
   ],
   "source": [
    "contact = {'koushik': 43245678,\n",
    " 'prashant': 968418,\n",
    " 'bhavya': 34789378,\n",
    " 'niraj': 48972882,\n",
    " 'sai': 13800003}\n",
    "\n",
    "\n",
    "X = input(\"Enter a name: \")\n",
    "def delete(name):\n",
    "    new_contact = {name: Ph for name, Ph in contact() if name  != 'X'}\n",
    "    print(\"The new dictionary is :\" + str(new_contact))\n",
    "        "
   ]
  },
  {
   "cell_type": "code",
   "execution_count": 46,
   "metadata": {},
   "outputs": [
    {
     "name": "stdout",
     "output_type": "stream",
     "text": [
      "koushik  Deleted Successfully\n"
     ]
    }
   ],
   "source": [
    "contact = {'koushik': 43245678,\n",
    " 'prashant': 968418,\n",
    " 'bhavya': 34789378,\n",
    " 'niraj': 48972882,\n",
    " 'sai': 13800003}\n",
    "\n",
    "\n",
    "def deleteContact(name):\n",
    "    if name in contact:\n",
    "        del contact[name]\n",
    "        print(name,' Deleted Successfully')\n",
    "    else:\n",
    "        print(name,' Not present')\n",
    "    return\n",
    "deleteContact('koushik')"
   ]
  },
  {
   "cell_type": "code",
   "execution_count": 47,
   "metadata": {},
   "outputs": [
    {
     "data": {
      "text/plain": [
       "{'prashant': 968418, 'bhavya': 34789378, 'niraj': 48972882, 'sai': 13800003}"
      ]
     },
     "execution_count": 47,
     "metadata": {},
     "output_type": "execute_result"
    }
   ],
   "source": [
    "contact"
   ]
  },
  {
   "cell_type": "code",
   "execution_count": null,
   "metadata": {},
   "outputs": [],
   "source": []
  }
 ],
 "metadata": {
  "kernelspec": {
   "display_name": "Python 3",
   "language": "python",
   "name": "python3"
  },
  "language_info": {
   "codemirror_mode": {
    "name": "ipython",
    "version": 3
   },
   "file_extension": ".py",
   "mimetype": "text/x-python",
   "name": "python",
   "nbconvert_exporter": "python",
   "pygments_lexer": "ipython3",
   "version": "3.8.5"
  }
 },
 "nbformat": 4,
 "nbformat_minor": 4
}
